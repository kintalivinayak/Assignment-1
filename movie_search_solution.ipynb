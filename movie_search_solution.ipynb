{
 "cells": [
  {
   "cell_type": "markdown",
   "id": "14d4513e",
   "metadata": {},
   "source": [
    "# Semantic Search for Movie Plots\n",
    "\n",
    "This notebook implements a semantic search engine for movie plots. We will use `sentence-transformers` to create embeddings for movie plots and then use cosine similarity to find movies that are semantically similar to a given query."
   ]
  },
  {
   "cell_type": "markdown",
   "id": "cbed7565",
   "metadata": {},
   "source": [
    "### 1. Install and Import Libraries"
   ]
  },
  {
   "cell_type": "code",
   "execution_count": null,
   "id": "ab6e5063",
   "metadata": {},
   "outputs": [],
   "source": [
    "# Install the required libraries\n",
    "!pip install sentence-transformers pandas scikit-learn\n",
    "\n",
    "# Import necessary libraries\n",
    "import pandas as pd\n",
    "from sentence_transformers import SentenceTransformer\n",
    "from sklearn.metrics.pairwise import cosine_similarity\n",
    "import numpy as np"
   ]
  },
  {
   "cell_type": "markdown",
   "id": "c2afac9d",
   "metadata": {},
   "source": [
    "### 2. Load the Dataset"
   ]
  },
  {
   "cell_type": "code",
   "execution_count": null,
   "id": "e09855ae",
   "metadata": {},
   "outputs": [],
   "source": [
    "# Load the movies.csv file into a pandas DataFrame\n",
    "df = pd.read_csv('movies.csv')\n",
    "print(\"Dataset loaded successfully. Here are the first 5 rows:\")\n",
    "df.head()"
   ]
  },
  {
   "cell_type": "markdown",
   "id": "06f459e5",
   "metadata": {},
   "source": [
    "### 3. Create Embeddings for Movie Plots"
   ]
  },
  {
   "cell_type": "code",
   "execution_count": null,
   "id": "bf73a7ab",
   "metadata": {},
   "outputs": [],
   "source": [
    "# Load the pre-trained Sentence Transformer model\n",
    "model = SentenceTransformer('all-MiniLM-L6-v2')\n",
    "\n",
    "# Create embeddings for the movie plots\n",
    "# This may take a moment to run\n",
    "print(\"Creating embeddings for movie plots...\")\n",
    "embeddings = model.encode(df['plot'].tolist(), convert_to_tensor=False)\n",
    "print(\"Embeddings created successfully.\")"
   ]
  },
  {
   "cell_type": "markdown",
   "id": "9e206f9c",
   "metadata": {},
   "source": [
    "### 4. Implement the Search Function"
   ]
  },
  {
   "cell_type": "code",
   "execution_count": null,
   "id": "36d8ee82",
   "metadata": {},
   "outputs": [],
   "source": [
    "def search_movies(query, top_n=5):\n",
    "    \"\"\"\n",
    "    Searches for movies based on a query using semantic similarity.\n",
    "\n",
    "    Args:\n",
    "        query (str): The search query.\n",
    "        top_n (int): The number of top results to return.\n",
    "\n",
    "    Returns:\n",
    "        pandas.DataFrame: A DataFrame with the top N movies, including their \n",
    "                          titles, plots, and similarity scores.\n",
    "    \"\"\"\n",
    "    # Encode the query to get its embedding\n",
    "    query_embedding = model.encode([query], convert_to_tensor=False)\n",
    "    \n",
    "    # Calculate cosine similarity between the query and all movie plots\n",
    "    similarities = cosine_similarity(query_embedding, embeddings)[0]\n",
    "    \n",
    "    # Get the indices of the top N most similar movies\n",
    "    top_indices = np.argsort(similarities)[-top_n:][::-1]\n",
    "    \n",
    "    # Create a result DataFrame\n",
    "    result_df = df.iloc[top_indices].copy()\n",
    "    result_df['similarity'] = similarities[top_indices]\n",
    "    \n",
    "    return result_df"
   ]
  },
  {
   "cell_type": "markdown",
   "id": "35b8e347",
   "metadata": {},
   "source": [
    "### 5. Test the Search Function"
   ]
  },
  {
   "cell_type": "code",
   "execution_count": null,
   "id": "760c01a6",
   "metadata": {},
   "outputs": [],
   "source": [
    "# Test the search function with the query 'spy thriller in Paris'\n",
    "test_query = 'spy thriller in Paris'\n",
    "results = search_movies(test_query, top_n=3)\n",
    "\n",
    "print(f\"Top 3 results for the query: '{test_query}'\")\n",
    "results"
   ]
  }
 ],
 "metadata": {
  "language_info": {
   "name": "python"
  }
 },
 "nbformat": 4,
 "nbformat_minor": 5
}
